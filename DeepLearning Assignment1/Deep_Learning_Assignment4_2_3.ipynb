{
  "nbformat": 4,
  "nbformat_minor": 0,
  "metadata": {
    "colab": {
      "name": "Deep Learning Assignment4_2/3.ipynb",
      "provenance": [],
      "collapsed_sections": []
    },
    "kernelspec": {
      "name": "python3",
      "display_name": "Python 3"
    },
    "language_info": {
      "name": "python"
    }
  },
  "cells": [
    {
      "cell_type": "markdown",
      "metadata": {
        "id": "YQav70EUUVVF"
      },
      "source": [
        "Importing all necessary libraries and pachages"
      ]
    },
    {
      "cell_type": "code",
      "metadata": {
        "id": "uPR4i6LgShOL"
      },
      "source": [
        "import numpy as np \n",
        "import pandas as pd\n",
        "import os\n",
        "import glob\n",
        "import pandas as pd\n",
        "import matplotlib.pyplot as plt\n",
        "import seaborn as sns\n",
        "import tarfile"
      ],
      "execution_count": 25,
      "outputs": []
    },
    {
      "cell_type": "markdown",
      "metadata": {
        "id": "B4w7XbiDUloj"
      },
      "source": [
        "Creating a dictionary aligning with dataset"
      ]
    },
    {
      "cell_type": "code",
      "metadata": {
        "id": "epNz6tfTSYdc"
      },
      "source": [
        "dataset_folder_name = 'UTKFace'\n",
        "\n",
        "TRAIN_TEST_SPLIT = 0.7\n",
        "IM_WIDTH = IM_HEIGHT = 198\n",
        "\n",
        "dataset_dict = {\n",
        "    'race_id': {\n",
        "        0: 'white', \n",
        "        1: 'black', \n",
        "        2: 'asian', \n",
        "        3: 'indian', \n",
        "        4: 'others'\n",
        "    },\n",
        "    'gender_id': {\n",
        "        0: 'male',\n",
        "        1: 'female'\n",
        "    }\n",
        "}\n",
        "\n",
        "dataset_dict['gender_alias'] = dict((g, i) for i, g in dataset_dict['gender_id'].items())\n",
        "dataset_dict['race_alias'] = dict((g, i) for i, g in dataset_dict['race_id'].items())"
      ],
      "execution_count": 23,
      "outputs": []
    },
    {
      "cell_type": "markdown",
      "metadata": {
        "id": "am_tUI_zUqr0"
      },
      "source": [
        "Extracting the databse tar file in present directory"
      ]
    },
    {
      "cell_type": "code",
      "metadata": {
        "id": "wpfcLaqRQIsl"
      },
      "source": [
        "with tarfile.open('UTKFace.tar.gz', \"r:gz\") as f:\n",
        "  f.extractall('')\n",
        "  f.close()\n",
        "   # Extract all the contents of zip file in current directory"
      ],
      "execution_count": 24,
      "outputs": []
    },
    {
      "cell_type": "markdown",
      "metadata": {
        "id": "MNbpL8w5U820"
      },
      "source": [
        "Parsing the files inside the image database, creating a dataframe with specified column name."
      ]
    },
    {
      "cell_type": "code",
      "metadata": {
        "id": "C0Ye77TLSpNL"
      },
      "source": [
        "def parse_dataset(dataset_path, ext='jpg'):\n",
        "    \"\"\"\n",
        "    Used to extract information about our dataset. It does iterate over all images and return a DataFrame with\n",
        "    the data (age, gender and sex) of all files.\n",
        "    \"\"\"\n",
        "    def parse_info_from_file(path):\n",
        "        \"\"\"\n",
        "        Parse information from a single file\n",
        "        \"\"\"\n",
        "        try:\n",
        "            filename = os.path.split(path)[1]\n",
        "            filename = os.path.splitext(filename)[0]\n",
        "            age, gender, race, _ = filename.split('_')\n",
        "\n",
        "            return int(age), dataset_dict['gender_id'][int(gender)], dataset_dict['race_id'][int(race)]\n",
        "        except Exception as ex:\n",
        "            return None, None, None\n",
        "        \n",
        "    files = glob.glob(os.path.join(dataset_path, \"*.%s\" % ext))\n",
        "    \n",
        "    records = []\n",
        "    for file in files:\n",
        "        info = parse_info_from_file(file)\n",
        "        records.append(info)\n",
        "        \n",
        "    df = pd.DataFrame(records)\n",
        "    df['file'] = files\n",
        "    df.columns = ['age', 'gender', 'race', 'file']\n",
        "    df = df.dropna()\n",
        "    \n",
        "    return df"
      ],
      "execution_count": 26,
      "outputs": []
    },
    {
      "cell_type": "markdown",
      "metadata": {
        "id": "pQrFMvMhVTY9"
      },
      "source": [
        "Loading the dataframe, reviewing the same with head() function"
      ]
    },
    {
      "cell_type": "code",
      "metadata": {
        "colab": {
          "base_uri": "https://localhost:8080/",
          "height": 195
        },
        "id": "sNhPkqsASs_b",
        "outputId": "cb3af797-2c3d-4c17-ada7-eb4ca6a26eff"
      },
      "source": [
        "df = parse_dataset(dataset_folder_name)\n",
        "df.head()"
      ],
      "execution_count": 27,
      "outputs": [
        {
          "output_type": "execute_result",
          "data": {
            "text/html": [
              "<div>\n",
              "<style scoped>\n",
              "    .dataframe tbody tr th:only-of-type {\n",
              "        vertical-align: middle;\n",
              "    }\n",
              "\n",
              "    .dataframe tbody tr th {\n",
              "        vertical-align: top;\n",
              "    }\n",
              "\n",
              "    .dataframe thead th {\n",
              "        text-align: right;\n",
              "    }\n",
              "</style>\n",
              "<table border=\"1\" class=\"dataframe\">\n",
              "  <thead>\n",
              "    <tr style=\"text-align: right;\">\n",
              "      <th></th>\n",
              "      <th>age</th>\n",
              "      <th>gender</th>\n",
              "      <th>race</th>\n",
              "      <th>file</th>\n",
              "    </tr>\n",
              "  </thead>\n",
              "  <tbody>\n",
              "    <tr>\n",
              "      <th>0</th>\n",
              "      <td>1.0</td>\n",
              "      <td>male</td>\n",
              "      <td>white</td>\n",
              "      <td>UTKFace/1_0_0_20170110211535352.jpg.chip.jpg</td>\n",
              "    </tr>\n",
              "    <tr>\n",
              "      <th>1</th>\n",
              "      <td>60.0</td>\n",
              "      <td>male</td>\n",
              "      <td>black</td>\n",
              "      <td>UTKFace/60_0_1_20170113185153840.jpg.chip.jpg</td>\n",
              "    </tr>\n",
              "    <tr>\n",
              "      <th>2</th>\n",
              "      <td>1.0</td>\n",
              "      <td>male</td>\n",
              "      <td>asian</td>\n",
              "      <td>UTKFace/1_0_2_20161219201312292.jpg.chip.jpg</td>\n",
              "    </tr>\n",
              "    <tr>\n",
              "      <th>3</th>\n",
              "      <td>29.0</td>\n",
              "      <td>male</td>\n",
              "      <td>others</td>\n",
              "      <td>UTKFace/29_0_4_20170114033029580.jpg.chip.jpg</td>\n",
              "    </tr>\n",
              "    <tr>\n",
              "      <th>4</th>\n",
              "      <td>30.0</td>\n",
              "      <td>male</td>\n",
              "      <td>indian</td>\n",
              "      <td>UTKFace/30_0_3_20170119155845146.jpg.chip.jpg</td>\n",
              "    </tr>\n",
              "  </tbody>\n",
              "</table>\n",
              "</div>"
            ],
            "text/plain": [
              "    age gender    race                                           file\n",
              "0   1.0   male   white   UTKFace/1_0_0_20170110211535352.jpg.chip.jpg\n",
              "1  60.0   male   black  UTKFace/60_0_1_20170113185153840.jpg.chip.jpg\n",
              "2   1.0   male   asian   UTKFace/1_0_2_20161219201312292.jpg.chip.jpg\n",
              "3  29.0   male  others  UTKFace/29_0_4_20170114033029580.jpg.chip.jpg\n",
              "4  30.0   male  indian  UTKFace/30_0_3_20170119155845146.jpg.chip.jpg"
            ]
          },
          "metadata": {
            "tags": []
          },
          "execution_count": 27
        }
      ]
    },
    {
      "cell_type": "markdown",
      "metadata": {
        "id": "_Cl2Td9xVgif"
      },
      "source": [
        "Importing the graphical libraries, and utilizing the graph features, drawing the Pie chart here"
      ]
    },
    {
      "cell_type": "code",
      "metadata": {
        "id": "Xzwm-x6aOGM4"
      },
      "source": [
        "import plotly.graph_objects as graph\n",
        "\n",
        "def plot_distribution(pd_series):\n",
        "    labels = pd_series.value_counts().index.tolist()\n",
        "    counts = pd_series.value_counts().values.tolist()\n",
        "    pie_plot = graph.Pie(labels=labels, values=counts, hole=.3)\n",
        "    fig = graph.Figure(data=[pie_plot])\n",
        "    fig.update_layout(title_text='Distribution for %s' % pd_series.name)\n",
        "    \n",
        "    fig.show()"
      ],
      "execution_count": 32,
      "outputs": []
    },
    {
      "cell_type": "markdown",
      "metadata": {
        "id": "wuB8aGFaV5SM"
      },
      "source": [
        "Displaying the gender distribution using the pie chart"
      ]
    },
    {
      "cell_type": "code",
      "metadata": {
        "id": "AsENdfTHTnZ8"
      },
      "source": [
        "plot_distribution(df['gender'])"
      ],
      "execution_count": null,
      "outputs": []
    },
    {
      "cell_type": "markdown",
      "metadata": {
        "id": "lVmvRlm0jLy1"
      },
      "source": [
        "#**Solution for problem statement 3 starts from here**\n",
        "\n",
        "\n",
        "\n",
        "\n",
        "\n",
        "\n",
        "\n"
      ]
    },
    {
      "cell_type": "code",
      "metadata": {
        "id": "diE6Z4b9XyZx"
      },
      "source": [
        "from tensorflow.keras.utils import to_categorical\n",
        "from PIL import Image\n",
        "\n",
        "class UtkFaceDataGenerator():\n",
        "    \"\"\"\n",
        "    Data generator for the UTKFace dataset. This class should be used when training our Keras multi-output model.\n",
        "    \"\"\"\n",
        "    def __init__(self, df):\n",
        "        self.df = df\n",
        "        \n",
        "    def generate_split_indexes(self):\n",
        "        p = np.random.permutation(len(self.df))\n",
        "        train_up_to = int(len(self.df) * TRAIN_TEST_SPLIT)\n",
        "        train_idx = p[:train_up_to]\n",
        "        test_idx = p[train_up_to:]\n",
        "\n",
        "        train_up_to = int(train_up_to * TRAIN_TEST_SPLIT)\n",
        "        train_idx, valid_idx = train_idx[:train_up_to], train_idx[train_up_to:]\n",
        "        \n",
        "        # converts alias to id\n",
        "        self.df['gender_id'] = self.df['gender'].map(lambda gender: dataset_dict['gender_alias'][gender])\n",
        "        self.df['race_id'] = self.df['race'].map(lambda race: dataset_dict['race_alias'][race])\n",
        "\n",
        "        self.max_age = self.df['age'].max()\n",
        "        \n",
        "        return train_idx, valid_idx, test_idx\n",
        "    \n",
        "    def preprocess_image(self, img_path):\n",
        "        \"\"\"\n",
        "        Used to perform some minor preprocessing on the image before inputting into the network.\n",
        "        \"\"\"\n",
        "        im = Image.open(img_path)\n",
        "        im = im.resize((IM_WIDTH, IM_HEIGHT))\n",
        "        im = np.array(im) / 255.0\n",
        "        \n",
        "        return im\n",
        "        \n",
        "    def generate_images(self, image_idx, is_training, batch_size=16):\n",
        "        \"\"\"\n",
        "        Used to generate a batch with images when training/testing/validating our Keras model.\n",
        "        \"\"\"\n",
        "        \n",
        "        # arrays to store our batched data\n",
        "        images, ages, races, genders = [], [], [], []\n",
        "        while True:\n",
        "            for idx in image_idx:\n",
        "                person = self.df.iloc[idx]\n",
        "                \n",
        "                age = person['age']\n",
        "                race = person['race_id']\n",
        "                gender = person['gender_id']\n",
        "                file = person['file']\n",
        "                \n",
        "                im = self.preprocess_image(file)\n",
        "                \n",
        "                ages.append(age / self.max_age)\n",
        "                races.append(to_categorical(race, len(dataset_dict['race_id'])))\n",
        "                genders.append(to_categorical(gender, len(dataset_dict['gender_id'])))\n",
        "                images.append(im)\n",
        "                \n",
        "                # yielding condition\n",
        "                if len(images) >= batch_size:\n",
        "                    yield np.array(images), [np.array(ages), np.array(races), np.array(genders)]\n",
        "                    images, ages, races, genders = [], [], [], []\n",
        "                    \n",
        "            if not is_training:\n",
        "                break\n",
        "                \n",
        "data_generator = UtkFaceDataGenerator(df)\n",
        "train_idx, valid_idx, test_idx = data_generator.generate_split_indexes()"
      ],
      "execution_count": 34,
      "outputs": []
    },
    {
      "cell_type": "code",
      "metadata": {
        "id": "ZaXfNBoQYM-2"
      },
      "source": [
        "from keras.models import Model\n",
        "from keras.layers.normalization import BatchNormalization\n",
        "from keras.layers.convolutional import Conv2D\n",
        "from keras.layers.convolutional import MaxPooling2D\n",
        "from keras.layers.core import Activation\n",
        "from keras.layers.core import Dropout\n",
        "from keras.layers.core import Lambda\n",
        "from keras.layers.core import Dense\n",
        "from keras.layers import Flatten\n",
        "from keras.layers import Input\n",
        "import tensorflow as tf\n",
        "\n",
        "class UtkMultiOutputModel():\n",
        "    \"\"\"\n",
        "    Used to generate our multi-output model. This CNN contains three branches, one for age, other for \n",
        "    sex and another for race. Each branch contains a sequence of Convolutional Layers that is defined\n",
        "    on the make_default_hidden_layers method.\n",
        "    \"\"\"\n",
        "    def make_default_hidden_layers(self, inputs):\n",
        "        \"\"\"\n",
        "        Used to generate a default set of hidden layers. The structure used in this network is defined as:\n",
        "        \n",
        "        Conv2D -> BatchNormalization -> Pooling -> Dropout\n",
        "        \"\"\"\n",
        "        x = Conv2D(16, (3, 3), padding=\"same\")(inputs)\n",
        "        x = Activation(\"relu\")(x)\n",
        "        x = BatchNormalization(axis=-1)(x)\n",
        "        x = MaxPooling2D(pool_size=(3, 3))(x)\n",
        "        x = Dropout(0.25)(x)\n",
        "\n",
        "        x = Conv2D(32, (3, 3), padding=\"same\")(x)\n",
        "        x = Activation(\"relu\")(x)\n",
        "        x = BatchNormalization(axis=-1)(x)\n",
        "        x = MaxPooling2D(pool_size=(2, 2))(x)\n",
        "        x = Dropout(0.25)(x)\n",
        "\n",
        "        x = Conv2D(32, (3, 3), padding=\"same\")(x)\n",
        "        x = Activation(\"relu\")(x)\n",
        "        x = BatchNormalization(axis=-1)(x)\n",
        "        x = MaxPooling2D(pool_size=(2, 2))(x)\n",
        "        x = Dropout(0.25)(x)\n",
        "\n",
        "        return x\n",
        "\n",
        "    def build_race_branch(self, inputs, num_races):\n",
        "        \"\"\"\n",
        "        Used to build the race branch of our face recognition network.\n",
        "        This branch is composed of three Conv -> BN -> Pool -> Dropout blocks, \n",
        "        followed by the Dense output layer.\n",
        "        \"\"\"\n",
        "        x = self.make_default_hidden_layers(inputs)\n",
        "\n",
        "        x = Flatten()(x)\n",
        "        x = Dense(128)(x)\n",
        "        x = Activation(\"relu\")(x)\n",
        "        x = BatchNormalization()(x)\n",
        "        x = Dropout(0.5)(x)\n",
        "        x = Dense(num_races)(x)\n",
        "        x = Activation(\"softmax\", name=\"race_output\")(x)\n",
        "\n",
        "        return x\n",
        "\n",
        "    def build_gender_branch(self, inputs, num_genders=2):\n",
        "        \"\"\"\n",
        "        Used to build the gender branch of our face recognition network.\n",
        "        This branch is composed of three Conv -> BN -> Pool -> Dropout blocks, \n",
        "        followed by the Dense output layer.\n",
        "        \"\"\"\n",
        "        x = Lambda(lambda c: tf.image.rgb_to_grayscale(c))(inputs)\n",
        "\n",
        "        x = self.make_default_hidden_layers(inputs)\n",
        "\n",
        "        x = Flatten()(x)\n",
        "        x = Dense(128)(x)\n",
        "        x = Activation(\"relu\")(x)\n",
        "        x = BatchNormalization()(x)\n",
        "        x = Dropout(0.5)(x)\n",
        "        x = Dense(num_genders)(x)\n",
        "        x = Activation(\"sigmoid\", name=\"gender_output\")(x)\n",
        "\n",
        "        return x\n",
        "\n",
        "    def build_age_branch(self, inputs):   \n",
        "        \"\"\"\n",
        "        Used to build the age branch of our face recognition network.\n",
        "        This branch is composed of three Conv -> BN -> Pool -> Dropout blocks, \n",
        "        followed by the Dense output layer.\n",
        "\n",
        "        \"\"\"\n",
        "        x = self.make_default_hidden_layers(inputs)\n",
        "\n",
        "        x = Flatten()(x)\n",
        "        x = Dense(128)(x)\n",
        "        x = Activation(\"relu\")(x)\n",
        "        x = BatchNormalization()(x)\n",
        "        x = Dropout(0.5)(x)\n",
        "        x = Dense(1)(x)\n",
        "        x = Activation(\"linear\", name=\"age_output\")(x)\n",
        "\n",
        "        return x\n",
        "\n",
        "    def assemble_full_model(self, width, height, num_races):\n",
        "        \"\"\"\n",
        "        Used to assemble our multi-output model CNN.\n",
        "        \"\"\"\n",
        "        input_shape = (height, width, 3)\n",
        "\n",
        "        inputs = Input(shape=input_shape)\n",
        "\n",
        "        age_branch = self.build_age_branch(inputs)\n",
        "        race_branch = self.build_race_branch(inputs, num_races)\n",
        "        gender_branch = self.build_gender_branch(inputs)\n",
        "\n",
        "        model = Model(inputs=inputs,\n",
        "                     outputs = [age_branch, race_branch, gender_branch],\n",
        "                     name=\"face_net\")\n",
        "\n",
        "        return model\n",
        "    \n",
        "model = UtkMultiOutputModel().assemble_full_model(IM_WIDTH, IM_HEIGHT, num_races=len(dataset_dict['race_alias']))"
      ],
      "execution_count": 35,
      "outputs": []
    },
    {
      "cell_type": "code",
      "metadata": {
        "id": "wpbFiFF6Yd4m"
      },
      "source": [
        "from keras.optimizers import Adam\n",
        "\n",
        "init_lr = 1e-4\n",
        "epochs = 100\n",
        "\n",
        "opt = Adam(learning_rate=init_lr, decay=init_lr / epochs)\n",
        "\n",
        "model.compile(optimizer=opt, \n",
        "              loss={\n",
        "                  'age_output': 'mse', \n",
        "                  'race_output': 'categorical_crossentropy', \n",
        "                  'gender_output': 'binary_crossentropy'},\n",
        "              loss_weights={\n",
        "                  'age_output': 4., \n",
        "                  'race_output': 1.5, \n",
        "                  'gender_output': 0.1},\n",
        "              metrics={\n",
        "                  'age_output': 'mae', \n",
        "                  'race_output': 'accuracy',\n",
        "                  'gender_output': 'accuracy'})"
      ],
      "execution_count": 37,
      "outputs": []
    },
    {
      "cell_type": "code",
      "metadata": {
        "id": "avdsKv78YvS_"
      },
      "source": [
        "from keras.callbacks import ModelCheckpoint\n",
        "\n",
        "batch_size = 32\n",
        "valid_batch_size = 32\n",
        "train_gen = data_generator.generate_images(train_idx, is_training=True, batch_size=batch_size)\n",
        "valid_gen = data_generator.generate_images(valid_idx, is_training=True, batch_size=valid_batch_size)\n",
        "\n",
        "callbacks = [\n",
        "    ModelCheckpoint(\"./model_checkpoint\", monitor='val_loss')\n",
        "]\n",
        "\n",
        "history = model.fit_generator(train_gen,\n",
        "                    steps_per_epoch=len(train_idx)//batch_size,\n",
        "                    epochs=epochs,\n",
        "                    callbacks=callbacks,\n",
        "                    validation_data=valid_gen,\n",
        "                    validation_steps=len(valid_idx)//valid_batch_size)"
      ],
      "execution_count": null,
      "outputs": []
    },
    {
      "cell_type": "code",
      "metadata": {
        "id": "0UZ-OTSvhwV-"
      },
      "source": [
        "plt.clf()\n",
        "\n",
        "fig = go.Figure()\n",
        "fig.add_trace(go.Scatter(\n",
        "                    y=history.history['gender_output_acc'],\n",
        "                    name='Train'))\n",
        "\n",
        "fig.add_trace(go.Scatter(\n",
        "                    y=history.history['val_gender_output_acc'],\n",
        "                    name='Valid'))\n",
        "\n",
        "\n",
        "fig.update_layout(height=500, \n",
        "                  width=700,\n",
        "                  title='Accuracy for gender feature',\n",
        "                  xaxis_title='Epoch',\n",
        "                  yaxis_title='Accuracy')\n",
        "\n",
        "\n",
        "fig.show()"
      ],
      "execution_count": null,
      "outputs": []
    },
    {
      "cell_type": "code",
      "metadata": {
        "id": "u2LN1MZ2iaMV"
      },
      "source": [
        "import numpy as np\n",
        "import matplotlib.pyplot as plt\n",
        "from keras.models import load_model\n",
        "import cv2\n",
        "model_path = \"./model.h5\"\n",
        "model = load_model(model_path)\n",
        "output_path = \"\"\n",
        "img_path = \"\"\n",
        "face_cascade = cv2.CascadeClassifier(\"haarcascade_frontalface_default.xml\")\n",
        "pic = cv2.imread(img_path)\n",
        "gray = cv2.cvtColor(pic,cv2.COLOR_BGR2GRAY)\n",
        "faces = face_cascade.detectMultiScale(gray,1.3,5)\n",
        "age_ = []\n",
        "gender_ = []\n",
        "for (x,y,w,h) in faces:\n",
        "  img = gray[y-50:y+40+h,x-10:x+10+w]\n",
        "  img = cv2.cvtColor(img,cv2.COLOR_GRAY2RGB)\n",
        "  img = cv2.resize(img,(200,200))\n",
        "  predict = model.predict(np.array(img).reshape(-1,200,200,3))\n",
        "  age_.append(predict[0])\n",
        "  gender_.append(np.argmax(predict[1]))\n",
        "  gend = np.argmax(predict[1])\n",
        "  if gend == 0:\n",
        "    gend = 'Man'\n",
        "    col = (255,0,0)\n",
        "  else:\n",
        "    gend = 'Woman'\n",
        "    col = (203,12,255)\n",
        "  cv2.rectangle(pic,(x,y),(x+w,y+h),(0,225,0),4)\n",
        "  cv2.putText(pic,\"Age : \"+str(int(predict[0]))+\" / \"+str(gend),(x,y),cv2.FONT_HERSHEY_SIMPLEX,w*0.005,col,4)\n",
        "pic1 = cv2.cvtColor(pic,cv2.COLOR_BGR2RGB)\n",
        "plt.imshow(pic1)\n",
        "plt.show() \n",
        "print(age_,gender_)\n",
        "cv2.imwrite(output_path,pic)"
      ],
      "execution_count": null,
      "outputs": []
    }
  ]
}