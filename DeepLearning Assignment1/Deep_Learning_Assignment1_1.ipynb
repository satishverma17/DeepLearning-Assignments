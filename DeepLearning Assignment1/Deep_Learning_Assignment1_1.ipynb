{
  "nbformat": 4,
  "nbformat_minor": 0,
  "metadata": {
    "colab": {
      "name": "Deep Learning_Assignment1_1.ipynb",
      "provenance": []
    },
    "kernelspec": {
      "name": "python3",
      "display_name": "Python 3"
    },
    "language_info": {
      "name": "python"
    }
  },
  "cells": [
    {
      "cell_type": "code",
      "metadata": {
        "id": "F77LJOnxoBiE"
      },
      "source": [
        ""
      ],
      "execution_count": null,
      "outputs": []
    },
    {
      "cell_type": "markdown",
      "metadata": {
        "id": "6gkhB5R_oUtR"
      },
      "source": [
        "Do you get the same results if you run the Notebook multiple times without changing\n",
        "any parameters?\n",
        "                                                                            \n",
        "Ans: No I am getting more accurate results after 2-3 re-runs, then almost stable result"
      ]
    },
    {
      "cell_type": "markdown",
      "metadata": {
        "id": "VOA6zE1EpxeP"
      },
      "source": [
        "• What is the effect of adding more neurons to each Conv2D layer?\n",
        "\n",
        "Ans: Not Exactly, adding more neurons axtract more feature but upto a limited extent only it can be done."
      ]
    },
    {
      "cell_type": "markdown",
      "metadata": {
        "id": "OHZ7lmfOq5FY"
      },
      "source": [
        "\n",
        "• What happens if we manipulate the value of dropout?\n",
        "\n",
        "Ans : Drop-outs techniques can play a vital role overfitting or underfitting the model, there must be a balance to achieve better models.\n"
      ]
    },
    {
      "cell_type": "markdown",
      "metadata": {
        "id": "RxjHCqsbr-JE"
      },
      "source": [
        "• What is the effect of adding more activation layers to the network?\n",
        "\n",
        "Ans More actvation layers provides more granual control over the complex model outputs by selecting the dropouts and type of activation functions.\n"
      ]
    },
    {
      "cell_type": "markdown",
      "metadata": {
        "id": "RvElLzcptxsl"
      },
      "source": [
        "• What is the purpose of MaxPooling2D layer?\n",
        "\n",
        "Ans : Maximum pooling, or max pooling, is a pooling operation that calculates the maximum, or largest, value in each patch of each feature map"
      ]
    },
    {
      "cell_type": "markdown",
      "metadata": {
        "id": "e6EGXokAuEtn"
      },
      "source": [
        "• Does manipulating the learning rate affect the model? Justify your answer.\n",
        "\n",
        "Ans: Yes !! Learning rate controls how quickly the model is adapted to the problem. Smaller learning rates require more training epochs given the smaller changes made to the weights each update, whereas larger learning rates result in rapid changes and require fewer training epochs."
      ]
    }
  ]
}