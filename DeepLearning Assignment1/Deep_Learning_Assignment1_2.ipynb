{
  "nbformat": 4,
  "nbformat_minor": 0,
  "metadata": {
    "colab": {
      "name": "Deep Learning_Assignment1_2.ipynb",
      "provenance": []
    },
    "kernelspec": {
      "name": "python3",
      "display_name": "Python 3"
    },
    "language_info": {
      "name": "python"
    }
  },
  "cells": [
    {
      "cell_type": "markdown",
      "metadata": {
        "id": "xv_HE2XrhW1i"
      },
      "source": [
        "Importing Tensorflow library"
      ]
    },
    {
      "cell_type": "code",
      "metadata": {
        "id": "f-zRbIHgd57k"
      },
      "source": [
        "import tensorflow as tf"
      ],
      "execution_count": null,
      "outputs": []
    },
    {
      "cell_type": "markdown",
      "metadata": {
        "id": "TZbDnROWhfzS"
      },
      "source": [
        "Downloading and preparing MNIST datasets for traning and testing purpose, converting samples from integer to floating"
      ]
    },
    {
      "cell_type": "code",
      "metadata": {
        "id": "ZQ426WWufy3K"
      },
      "source": [
        "mnist = tf.keras.datasets.mnist\n",
        "\n",
        "(x_train, y_train), (x_test, y_test) = mnist.load_data()\n",
        "x_train, x_test = x_train / 255.0, x_test / 255.0"
      ],
      "execution_count": null,
      "outputs": []
    },
    {
      "cell_type": "markdown",
      "metadata": {
        "id": "8_7cVFu-iMho"
      },
      "source": [
        "Build the tf.keras.Sequential model by stacking layers by Choosing an optimizer and loss function for training:"
      ]
    },
    {
      "cell_type": "code",
      "metadata": {
        "id": "7eEKCGRAf8Cx"
      },
      "source": [
        "model = tf.keras.models.Sequential([\n",
        "  tf.keras.layers.Flatten(input_shape=(28, 28)),\n",
        "  tf.keras.layers.Dense(128, activation='relu'),\n",
        "  tf.keras.layers.Dropout(0.2),\n",
        "  tf.keras.layers.Dense(10)\n",
        "])"
      ],
      "execution_count": null,
      "outputs": []
    },
    {
      "cell_type": "markdown",
      "metadata": {
        "id": "HwHMUqVejbz4"
      },
      "source": [
        "Each example has a vector of \"Logits\" and \"Log-Odds\" collected as prediction parameters.\n",
        "Logits: The vector of raw (non-normalized) predictions that a classification Log-Odds: model generates and The logarithm of the odds of some event."
      ]
    },
    {
      "cell_type": "code",
      "metadata": {
        "colab": {
          "base_uri": "https://localhost:8080/"
        },
        "id": "8bt8V8VPf8_K",
        "outputId": "3350aa11-c227-49b0-8666-6cf03239c666"
      },
      "source": [
        "predictions = model(x_train[:1]).numpy()\n",
        "predictions"
      ],
      "execution_count": null,
      "outputs": [
        {
          "output_type": "execute_result",
          "data": {
            "text/plain": [
              "array([[-0.09043998, -0.2651177 ,  0.07668626,  0.3347767 , -0.07573164,\n",
              "         0.09855483,  0.03392034,  0.6592796 ,  0.43973333,  0.53333807]],\n",
              "      dtype=float32)"
            ]
          },
          "metadata": {
            "tags": []
          },
          "execution_count": 6
        }
      ]
    },
    {
      "cell_type": "markdown",
      "metadata": {
        "id": "bt3UZxqFnUyf"
      },
      "source": [
        "Converting extracted logits to \"probabilities\" for each class using softmax function"
      ]
    },
    {
      "cell_type": "code",
      "metadata": {
        "colab": {
          "base_uri": "https://localhost:8080/"
        },
        "id": "_XMEGqHygEZO",
        "outputId": "f7d2f8c2-142b-45d6-f1d5-935e76d4bacf"
      },
      "source": [
        "tf.nn.softmax(predictions).numpy()"
      ],
      "execution_count": null,
      "outputs": [
        {
          "output_type": "execute_result",
          "data": {
            "text/plain": [
              "array([[0.07359204, 0.06179727, 0.0869787 , 0.11259008, 0.07468246,\n",
              "        0.08890174, 0.08333738, 0.15575068, 0.12504958, 0.13732015]],\n",
              "      dtype=float32)"
            ]
          },
          "metadata": {
            "tags": []
          },
          "execution_count": 7
        }
      ]
    },
    {
      "cell_type": "markdown",
      "metadata": {
        "id": "3MbCtEmmwH-Z"
      },
      "source": [
        "The losses.SparseCategoricalCrossentropy loss takes a vector of logits and a True index and returns a scalar loss for each example."
      ]
    },
    {
      "cell_type": "code",
      "metadata": {
        "id": "I3dIVaD3gNYW"
      },
      "source": [
        "loss_fn = tf.keras.losses.SparseCategoricalCrossentropy(from_logits=True)"
      ],
      "execution_count": null,
      "outputs": []
    },
    {
      "cell_type": "code",
      "metadata": {
        "colab": {
          "base_uri": "https://localhost:8080/"
        },
        "id": "paJDyCi-gR63",
        "outputId": "e6fbdb9b-757f-4e1b-a2fd-8eb623dd0688"
      },
      "source": [
        "loss_fn(y_train[:1], predictions).numpy()"
      ],
      "execution_count": null,
      "outputs": [
        {
          "output_type": "execute_result",
          "data": {
            "text/plain": [
              "2.4202235"
            ]
          },
          "metadata": {
            "tags": []
          },
          "execution_count": 9
        }
      ]
    },
    {
      "cell_type": "code",
      "metadata": {
        "id": "oLy6GqgNgcqH"
      },
      "source": [
        "model.compile(optimizer='adam',\n",
        "              loss=loss_fn,\n",
        "              metrics=['accuracy'])"
      ],
      "execution_count": null,
      "outputs": []
    },
    {
      "cell_type": "code",
      "metadata": {
        "colab": {
          "base_uri": "https://localhost:8080/"
        },
        "id": "36IcrE8PgiGJ",
        "outputId": "c06d4611-9627-4a4d-e28a-878c5fa6cb28"
      },
      "source": [
        "model.fit(x_train, y_train, epochs=7)"
      ],
      "execution_count": null,
      "outputs": [
        {
          "output_type": "stream",
          "text": [
            "Epoch 1/7\n",
            "1875/1875 [==============================] - 4s 2ms/step - loss: 0.0392 - accuracy: 0.9870\n",
            "Epoch 2/7\n",
            "1875/1875 [==============================] - 4s 2ms/step - loss: 0.0374 - accuracy: 0.9877\n",
            "Epoch 3/7\n",
            "1875/1875 [==============================] - 4s 2ms/step - loss: 0.0336 - accuracy: 0.9885\n",
            "Epoch 4/7\n",
            "1875/1875 [==============================] - 4s 2ms/step - loss: 0.0343 - accuracy: 0.9883\n",
            "Epoch 5/7\n",
            "1875/1875 [==============================] - 4s 2ms/step - loss: 0.0314 - accuracy: 0.9895\n",
            "Epoch 6/7\n",
            "1875/1875 [==============================] - 4s 2ms/step - loss: 0.0300 - accuracy: 0.9898\n",
            "Epoch 7/7\n",
            "1875/1875 [==============================] - 4s 2ms/step - loss: 0.0303 - accuracy: 0.9894\n"
          ],
          "name": "stdout"
        },
        {
          "output_type": "execute_result",
          "data": {
            "text/plain": [
              "<tensorflow.python.keras.callbacks.History at 0x7ff82ff31f10>"
            ]
          },
          "metadata": {
            "tags": []
          },
          "execution_count": 13
        }
      ]
    },
    {
      "cell_type": "code",
      "metadata": {
        "id": "U1KVvE1fglL3"
      },
      "source": [
        "probability_model = tf.keras.Sequential([\n",
        "  model,\n",
        "  tf.keras.layers.Softmax()\n",
        "])"
      ],
      "execution_count": null,
      "outputs": []
    },
    {
      "cell_type": "code",
      "metadata": {
        "colab": {
          "base_uri": "https://localhost:8080/"
        },
        "id": "-K353RJxhKmw",
        "outputId": "cba8839b-d7b8-40a8-cd89-59ebb5db2ef0"
      },
      "source": [
        "probability_model(x_test[:5])\n"
      ],
      "execution_count": null,
      "outputs": [
        {
          "output_type": "execute_result",
          "data": {
            "text/plain": [
              "<tf.Tensor: shape=(5, 10), dtype=float32, numpy=\n",
              "array([[1.97481961e-11, 3.30624798e-11, 3.59594923e-11, 5.99729174e-06,\n",
              "        2.40971900e-16, 6.74440376e-13, 1.17813262e-15, 9.99994040e-01,\n",
              "        1.25122239e-11, 2.26204744e-08],\n",
              "       [7.61465017e-17, 3.29670402e-10, 1.00000000e+00, 5.81370674e-10,\n",
              "        9.03804798e-29, 9.77312544e-15, 1.32542101e-16, 6.12095685e-29,\n",
              "        1.52478297e-15, 4.37021780e-20],\n",
              "       [1.28945701e-10, 9.99955654e-01, 2.80267951e-08, 5.91710569e-10,\n",
              "        1.93546327e-07, 8.27435731e-10, 3.87521141e-06, 2.37041168e-05,\n",
              "        1.66083773e-05, 8.52478177e-09],\n",
              "       [9.99999642e-01, 2.69449280e-16, 3.60154822e-08, 8.73870906e-11,\n",
              "        1.71978248e-11, 1.16190835e-08, 2.91213837e-07, 5.19358945e-10,\n",
              "        9.63875054e-17, 1.02552535e-08],\n",
              "       [3.32742234e-09, 5.70601553e-18, 2.82389268e-09, 4.01729810e-13,\n",
              "        9.99041736e-01, 2.38773628e-13, 1.38322740e-08, 8.89343312e-07,\n",
              "        1.10118123e-10, 9.57415323e-04]], dtype=float32)>"
            ]
          },
          "metadata": {
            "tags": []
          },
          "execution_count": 15
        }
      ]
    },
    {
      "cell_type": "code",
      "metadata": {
        "id": "2cU6YEvlhPLe"
      },
      "source": [
        ""
      ],
      "execution_count": null,
      "outputs": []
    }
  ]
}