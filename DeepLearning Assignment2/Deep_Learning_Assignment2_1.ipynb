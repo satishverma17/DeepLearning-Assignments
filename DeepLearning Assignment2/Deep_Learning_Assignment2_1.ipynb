{
  "nbformat": 4,
  "nbformat_minor": 0,
  "metadata": {
    "colab": {
      "name": "Deep Learning Assignment4_1.ipynb",
      "provenance": []
    },
    "kernelspec": {
      "name": "python3",
      "display_name": "Python 3"
    },
    "language_info": {
      "name": "python"
    }
  },
  "cells": [
    {
      "cell_type": "markdown",
      "metadata": {
        "id": "c_qli-KZcffT"
      },
      "source": [
        "• Do you get the same results if you run the Notebook multiple times without changing\n",
        "any parameters?\n",
        "\n",
        "Ans : No !! It is varying everytime depending of type of parameters changed"
      ]
    },
    {
      "cell_type": "markdown",
      "metadata": {
        "id": "NJHyewQncUGR"
      },
      "source": [
        "• What is the effect of adding more neurons to each Conv2D layer?\n",
        "\n",
        "Ans: It becomes more complex, it gives advantages of extracting more details but at the same time complex to process."
      ]
    },
    {
      "cell_type": "markdown",
      "metadata": {
        "id": "i4c7VAQ2cx0o"
      },
      "source": [
        "• What happens if we manipulate the value of dropout?\n",
        "\n",
        "Ans:Right amount of manipulation of dropouts can help create an unbiased model neither towards overfitting nor underfitting"
      ]
    },
    {
      "cell_type": "markdown",
      "metadata": {
        "id": "_Xmx87lDdS5A"
      },
      "source": [
        "• What is the effect of adding more activation layers to the network?\n",
        "\n",
        "Ans:Adding more layers give more granular access to control the behaviour of the model by adding different level of dropouts and passing different activation functions for different layers."
      ]
    },
    {
      "cell_type": "markdown",
      "metadata": {
        "id": "0v7HdDZKdmFn"
      },
      "source": [
        "• What is the purpose of MaxPooling2D layer?\n",
        "\n",
        "Ans: The MaxPooling feature allows ML engineer to extract or pool features by taking the maximum value over an input window\n"
      ]
    },
    {
      "cell_type": "markdown",
      "metadata": {
        "id": "6TooNV-2eegw"
      },
      "source": [
        "• Does manipulating the learning rate affect the model? Justify your answer.\n",
        "\n",
        "Ans:Yes !! Learning rate controls how quickly the model is adapted to the problem. Smaller learning rates require more training epochs given the smaller changes made to the weights each update, whereas larger learning rates result in rapid changes and require fewer training epochs."
      ]
    }
  ]
}