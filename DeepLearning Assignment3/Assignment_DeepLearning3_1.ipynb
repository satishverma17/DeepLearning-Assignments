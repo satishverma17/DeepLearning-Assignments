{
  "nbformat": 4,
  "nbformat_minor": 0,
  "metadata": {
    "colab": {
      "name": "Assignment_DeepLearning3_1.ipynb",
      "provenance": []
    },
    "kernelspec": {
      "name": "python3",
      "display_name": "Python 3"
    },
    "language_info": {
      "name": "python"
    }
  },
  "cells": [
    {
      "cell_type": "markdown",
      "metadata": {
        "id": "Rr-CMgD53Xjo"
      },
      "source": [
        "Do you get the same results if you run the notebook multiple times without changing any parameters?\n",
        "\n",
        "Ans : No !! The accuracy of the model increses upto certain cycles (3-4) but then after it shows stable behaviour\n"
      ]
    },
    {
      "cell_type": "markdown",
      "metadata": {
        "id": "QcotbJk-3Xe4"
      },
      "source": [
        "What happens if we increase the batch_size?\n",
        "\n",
        "Ans: If we increase the batch size it will improve the training performance but might loose the accuracy\n"
      ]
    },
    {
      "cell_type": "markdown",
      "metadata": {
        "id": "yiiCnRvV3XNI"
      },
      "source": [
        "What other activation functions could we use instead of sigmoid?\n",
        "\n",
        "Ans : SoftMax, ReLu etc are few of them a popular choices of activation functions"
      ]
    },
    {
      "cell_type": "markdown",
      "metadata": {
        "id": "fW9AmC_z3gpS"
      },
      "source": [
        "Why is the DCGAN output much better than Vanilla GAN? Elaborate\n",
        "\n",
        "Ans : DCGAN would likely be more fitting for image/video data, whereas the general idea of a GAN can be applied to wider domains."
      ]
    },
    {
      "cell_type": "code",
      "metadata": {
        "id": "IhkyRVtO3RVA"
      },
      "source": [
        ""
      ],
      "execution_count": null,
      "outputs": []
    }
  ]
}